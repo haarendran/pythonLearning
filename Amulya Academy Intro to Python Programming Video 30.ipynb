{
 "cells": [
  {
   "cell_type": "markdown",
   "id": "5110ed92",
   "metadata": {},
   "source": [
    "# Video 30 : Local and Global Variables"
   ]
  },
  {
   "cell_type": "code",
   "execution_count": 6,
   "id": "9f396c24",
   "metadata": {},
   "outputs": [
    {
     "name": "stdout",
     "output_type": "stream",
     "text": [
      "N value is 10\n",
      "N value is 5\n"
     ]
    }
   ],
   "source": [
    "# Example for Local Variable\n",
    "\n",
    "def func1():\n",
    "    n = 5        # Local Variable \n",
    "    # If we comment out the above n, we can see how local variable works\n",
    "    # An error will occur when calling out the func, as n is not defined for the print below\n",
    "    print('N value is', n)\n",
    "    \n",
    "def func2():\n",
    "    n = 10       # Local Variable\n",
    "    print('N value is', n)\n",
    "    func1()      # This will call upon func1\n",
    "\n",
    "# Main\n",
    "func2()"
   ]
  },
  {
   "cell_type": "code",
   "execution_count": 12,
   "id": "adec93c3",
   "metadata": {},
   "outputs": [
    {
     "name": "stdout",
     "output_type": "stream",
     "text": [
      "10\n",
      "10 Haaren\n"
     ]
    }
   ],
   "source": [
    "# Example for global variable \n",
    "\n",
    "n = 10      # Global variable that can be used in multiple or any function \n",
    "\n",
    "def func1():\n",
    "    print(n, 'Haaren')\n",
    "\n",
    "def func2():\n",
    "    print(n)\n",
    "    func1()\n",
    "\n",
    "# Main\n",
    "func2()"
   ]
  },
  {
   "cell_type": "code",
   "execution_count": 13,
   "id": "56b9d0c8",
   "metadata": {},
   "outputs": [
    {
     "name": "stdout",
     "output_type": "stream",
     "text": [
      "20\n",
      "10 Haaren\n"
     ]
    }
   ],
   "source": [
    "# Example for global variable \n",
    "\n",
    "n = 10      # Global variable that can be used in multiple or any function \n",
    "\n",
    "def func1():\n",
    "    print(n, 'Haaren')\n",
    "\n",
    "def func2():\n",
    "    n = 20 # Local Variable\n",
    "    print(n) # When we call func2 now, the n = 20 (local var) will be passed to n\n",
    "    func1() # Then the func 1 is called and n = 10 (global var) will be passed to the n in func1\n",
    "\n",
    "# Main\n",
    "func2()"
   ]
  },
  {
   "cell_type": "markdown",
   "id": "566491ee",
   "metadata": {},
   "source": [
    "# Video 31 : Updating Global Variables"
   ]
  },
  {
   "cell_type": "code",
   "execution_count": 1,
   "id": "f080979c",
   "metadata": {},
   "outputs": [
    {
     "ename": "UnboundLocalError",
     "evalue": "local variable 'var' referenced before assignment",
     "output_type": "error",
     "traceback": [
      "\u001b[1;31m---------------------------------------------------------------------------\u001b[0m",
      "\u001b[1;31mUnboundLocalError\u001b[0m                         Traceback (most recent call last)",
      "\u001b[1;32m<ipython-input-1-38b739be854c>\u001b[0m in \u001b[0;36m<module>\u001b[1;34m\u001b[0m\n\u001b[0;32m      6\u001b[0m \u001b[1;33m\u001b[0m\u001b[0m\n\u001b[0;32m      7\u001b[0m \u001b[1;31m# Main\u001b[0m\u001b[1;33m\u001b[0m\u001b[1;33m\u001b[0m\u001b[1;33m\u001b[0m\u001b[0m\n\u001b[1;32m----> 8\u001b[1;33m \u001b[0mfunc1\u001b[0m\u001b[1;33m(\u001b[0m\u001b[1;33m)\u001b[0m\u001b[1;33m\u001b[0m\u001b[1;33m\u001b[0m\u001b[0m\n\u001b[0m\u001b[0;32m      9\u001b[0m \u001b[1;33m\u001b[0m\u001b[0m\n",
      "\u001b[1;32m<ipython-input-1-38b739be854c>\u001b[0m in \u001b[0;36mfunc1\u001b[1;34m()\u001b[0m\n\u001b[0;32m      1\u001b[0m \u001b[0mvar\u001b[0m \u001b[1;33m=\u001b[0m \u001b[1;36m10\u001b[0m\u001b[1;33m\u001b[0m\u001b[1;33m\u001b[0m\u001b[0m\n\u001b[0;32m      2\u001b[0m \u001b[1;32mdef\u001b[0m \u001b[0mfunc1\u001b[0m\u001b[1;33m(\u001b[0m\u001b[1;33m)\u001b[0m\u001b[1;33m:\u001b[0m\u001b[1;33m\u001b[0m\u001b[1;33m\u001b[0m\u001b[0m\n\u001b[1;32m----> 3\u001b[1;33m     \u001b[0mvar\u001b[0m \u001b[1;33m=\u001b[0m \u001b[0mvar\u001b[0m\u001b[1;33m+\u001b[0m\u001b[1;36m1\u001b[0m\u001b[1;33m\u001b[0m\u001b[1;33m\u001b[0m\u001b[0m\n\u001b[0m\u001b[0;32m      4\u001b[0m     \u001b[0mprint\u001b[0m\u001b[1;33m(\u001b[0m\u001b[1;34m\"Variable value in func1 is\"\u001b[0m\u001b[1;33m,\u001b[0m \u001b[0mvar\u001b[0m\u001b[1;33m)\u001b[0m\u001b[1;33m\u001b[0m\u001b[1;33m\u001b[0m\u001b[0m\n\u001b[0;32m      5\u001b[0m     \u001b[1;32mreturn\u001b[0m\u001b[1;33m\u001b[0m\u001b[1;33m\u001b[0m\u001b[0m\n",
      "\u001b[1;31mUnboundLocalError\u001b[0m: local variable 'var' referenced before assignment"
     ]
    }
   ],
   "source": [
    "var = 10\n",
    "def func1():\n",
    "    var = var+1\n",
    "    print(\"Variable value in func1 is\", var)\n",
    "    return\n",
    "\n",
    "# Main\n",
    "func1()\n",
    "    "
   ]
  },
  {
   "cell_type": "code",
   "execution_count": 2,
   "id": "5f3dcc88",
   "metadata": {},
   "outputs": [
    {
     "name": "stdout",
     "output_type": "stream",
     "text": [
      "Variable value in func1 is 11\n"
     ]
    }
   ],
   "source": [
    "var = 10\n",
    "def func1():\n",
    "    global var      # We need to tell python that it's not a local variable but a global variable\n",
    "    var = var+1\n",
    "    print(\"Variable value in func1 is\", var)\n",
    "    return\n",
    "\n",
    "# Main\n",
    "func1()"
   ]
  },
  {
   "cell_type": "markdown",
   "id": "451d8ddd",
   "metadata": {},
   "source": [
    "# Video 32 : Anonymous Function | Lambda Function"
   ]
  },
  {
   "cell_type": "code",
   "execution_count": null,
   "id": "b8109bb8",
   "metadata": {},
   "outputs": [],
   "source": [
    "# In Python, an anonymous function is a function that is defined without a name.\n",
    "# While normal functions are defined using the 'def' keyword in Python, \n",
    "# anonymous functions are defined using the 'lambda' keyword.\n",
    "# Hence, anonymous functions are also called lambda functions."
   ]
  },
  {
   "cell_type": "code",
   "execution_count": 6,
   "id": "eb1ed157",
   "metadata": {},
   "outputs": [
    {
     "name": "stdout",
     "output_type": "stream",
     "text": [
      "Sum is 30\n"
     ]
    }
   ],
   "source": [
    "# This function has no name. It returns a function object which is assigned to the identifier double. \n",
    "# We can now call it as a normal function. \n",
    "\n",
    "sum = lambda var1,var2:var1+var2       #var1 and var2 are parameters\n",
    "print(\"Sum is\", sum(10,20))"
   ]
  },
  {
   "cell_type": "markdown",
   "id": "6dfdbcee",
   "metadata": {},
   "source": [
    "# Video 33 : Variable Length Arguments"
   ]
  },
  {
   "cell_type": "code",
   "execution_count": null,
   "id": "9afeb86d",
   "metadata": {},
   "outputs": [],
   "source": [
    "# You may need to process a function for more arguments than you specified while defining the function. \n",
    "# These arguments are called variable-length arguments and are not named in the function definition, unlike required and default arguments.\n",
    "\n",
    "# An asterisk (*) is placed before the variable name that holds the values of all nonkeyword variable arguments. \n",
    "# This tuple remains empty if no additional arguments are specified during the function call."
   ]
  },
  {
   "cell_type": "code",
   "execution_count": 7,
   "id": "ebedf977",
   "metadata": {},
   "outputs": [
    {
     "name": "stdout",
     "output_type": "stream",
     "text": [
      "10\n",
      "20\n",
      "30\n",
      "2\n",
      "3\n",
      "1\n",
      "2\n",
      "3\n",
      "4\n"
     ]
    }
   ],
   "source": [
    "def func1(*mylist):\n",
    "    for num in mylist:\n",
    "        print(num)\n",
    "    return\n",
    "\n",
    "# Main\n",
    "func1(10,20,30)\n",
    "func1(2,3)\n",
    "func1(1,2,3,4)"
   ]
  },
  {
   "cell_type": "markdown",
   "id": "1b6c2565",
   "metadata": {},
   "source": [
    "# Video 34 : Absolute, Ceil, Floor, Round and Trunc Numeric Functions"
   ]
  },
  {
   "cell_type": "code",
   "execution_count": 25,
   "id": "e5dd76cc",
   "metadata": {
    "scrolled": true
   },
   "outputs": [
    {
     "data": {
      "text/plain": [
       "100"
      ]
     },
     "execution_count": 25,
     "metadata": {},
     "output_type": "execute_result"
    }
   ],
   "source": [
    "# Absolute Function will give the distance of a value from zero\n",
    "abs(-100)"
   ]
  },
  {
   "cell_type": "code",
   "execution_count": 26,
   "id": "eaf7c516",
   "metadata": {},
   "outputs": [
    {
     "data": {
      "text/plain": [
       "3.8"
      ]
     },
     "execution_count": 26,
     "metadata": {},
     "output_type": "execute_result"
    }
   ],
   "source": [
    "# Round Function - Rounding up to a decimal point\n",
    "# round(value, decimal point)\n",
    "round(3.77778687, 1)"
   ]
  },
  {
   "cell_type": "code",
   "execution_count": null,
   "id": "53a0bcf9",
   "metadata": {},
   "outputs": [],
   "source": [
    "import math\n",
    "# Ceil - Ceiling of the value\n",
    "print(math.ceil(4.6))\n",
    "print(math.ceil(-3.2))    # it will return -3, because -3 is greater than -4\n",
    "print(math.ceil(3.3))     # it doesnt round up but gives 4"
   ]
  },
  {
   "cell_type": "code",
   "execution_count": null,
   "id": "aec90706",
   "metadata": {},
   "outputs": [],
   "source": [
    "import math\n",
    "# Floor - Floor value\n",
    "print(math.floor(4.6))     # will return 4 because lesser than 5\n",
    "print(math.floor(-3.2))    # it will return -4, because -4 is lesser than -3\n",
    "print(math.floor(3.3))     # will return 3 because lesser than 4"
   ]
  },
  {
   "cell_type": "code",
   "execution_count": null,
   "id": "885bbad8",
   "metadata": {},
   "outputs": [],
   "source": [
    "import math\n",
    "#Trunc - Truncate the value and give only integer value\n",
    "print(math.trunc(4.5))\n",
    "print(math.trunc(-5.67))   # Truncates the decimal point but keeps the negative sign"
   ]
  },
  {
   "cell_type": "markdown",
   "id": "d5dbe9f5",
   "metadata": {},
   "source": [
    "# Video 35 : Exponential, Sqrt, Max, Min and Log Functions"
   ]
  },
  {
   "cell_type": "code",
   "execution_count": 27,
   "id": "272b3235",
   "metadata": {},
   "outputs": [
    {
     "name": "stdout",
     "output_type": "stream",
     "text": [
      "Exponential\n",
      "2.718281828459045\n",
      "54.598150033144236\n",
      "54.59815003314423\n"
     ]
    }
   ],
   "source": [
    "import math\n",
    "# Exponential Function\n",
    "print(\"Exponential\")\n",
    "print(math.e)\n",
    "print(math.exp(4))\n",
    "print(math.e**(4))   # to check the value using exponential symbol"
   ]
  },
  {
   "cell_type": "code",
   "execution_count": 29,
   "id": "e1bd7a39",
   "metadata": {},
   "outputs": [
    {
     "name": "stdout",
     "output_type": "stream",
     "text": [
      "5.0\n",
      "4.0\n",
      "4.795831523312719\n"
     ]
    }
   ],
   "source": [
    "import math\n",
    "# Square Root Function - Sqrt\n",
    "print(math.sqrt(25))\n",
    "print(math.sqrt(16))\n",
    "print(math.sqrt(23))"
   ]
  },
  {
   "cell_type": "code",
   "execution_count": 30,
   "id": "1662d11b",
   "metadata": {},
   "outputs": [
    {
     "data": {
      "text/plain": [
       "10"
      ]
     },
     "execution_count": 30,
     "metadata": {},
     "output_type": "execute_result"
    }
   ],
   "source": [
    "max(10,2.3,4,1)"
   ]
  },
  {
   "cell_type": "code",
   "execution_count": 31,
   "id": "fa2f6e54",
   "metadata": {},
   "outputs": [
    {
     "data": {
      "text/plain": [
       "1"
      ]
     },
     "execution_count": 31,
     "metadata": {},
     "output_type": "execute_result"
    }
   ],
   "source": [
    "min(10,2.3,4,1)"
   ]
  },
  {
   "cell_type": "code",
   "execution_count": 39,
   "id": "f56a0e77",
   "metadata": {},
   "outputs": [
    {
     "name": "stdout",
     "output_type": "stream",
     "text": [
      "Natural logarithm of 14 is : 2.6390573296152584\n",
      "Logarithm base 5 of 14 is : 1.6397385131955606\n"
     ]
    }
   ],
   "source": [
    "import math\n",
    "# Log Function\n",
    "\n",
    "# log(a,(Base)) : This function is used to compute the natural logarithm (Base e) of a. \n",
    "# If 2 arguments are passed, it computes the logarithm of desired base of argument a, numerically value of log(a)/log(Base).\n",
    "# Syntax : math.log(a,Base)\n",
    "# a : The numeric value\n",
    "# Base :  Base to which the logarithm has to be computed.\n",
    "\n",
    "# Printing the log base e of 14\n",
    "print (\"Natural logarithm of 14 is : \", end=\"\")\n",
    "print (math.log(14))\n",
    "\n",
    "# Printing the log base 5 of 14\n",
    "print (\"Logarithm base 5 of 14 is : \", end=\"\")\n",
    "print (math.log(14,5))"
   ]
  },
  {
   "cell_type": "code",
   "execution_count": 37,
   "id": "9f4aae79",
   "metadata": {},
   "outputs": [
    {
     "name": "stdout",
     "output_type": "stream",
     "text": [
      "Logarithm base 2 of 14 is : 3.807354922057604\n"
     ]
    }
   ],
   "source": [
    "# log2(a) : This function is used to compute the logarithm base 2 of a. \n",
    "# Displays more accurate result than log(a,2).\n",
    "# Syntax : math.log2(a)\n",
    "\n",
    "# Printing the log base 2 of 14\n",
    "print (\"Logarithm base 2 of 14 is : \", end=\"\")\n",
    "print (math.log2(14))"
   ]
  },
  {
   "cell_type": "code",
   "execution_count": null,
   "id": "00369a3f",
   "metadata": {},
   "outputs": [],
   "source": [
    "# log10(a) : This function is used to compute the logarithm base 10 of a. \n",
    "# Displays more accurate result than log(a,10).\n",
    "# Syntax : math.log10(a)\n",
    "\n",
    "# Printing the log base 10 of 14\n",
    "print (\"Logarithm base 10 of 14 is : \", end=\"\")\n",
    "print (math.log10(14))"
   ]
  },
  {
   "cell_type": "code",
   "execution_count": 40,
   "id": "6ea35e2a",
   "metadata": {},
   "outputs": [
    {
     "name": "stdout",
     "output_type": "stream",
     "text": [
      "Logarithm(1+a) value of 14 is : 2.70805020110221\n"
     ]
    }
   ],
   "source": [
    "# log1p(a) : This function is used to compute logarithm(1+a) .\n",
    "# Syntax : math.log1p(a)\n",
    "\n",
    "# Printing the log(1+a) of 14\n",
    "print (\"Logarithm(1+a) value of 14 is : \", end=\"\")\n",
    "print (math.log1p(14))"
   ]
  },
  {
   "cell_type": "markdown",
   "id": "cabdd3f2",
   "metadata": {},
   "source": [
    "# Video 36 : Modf, Power, Pi Degree and Radians Functions"
   ]
  },
  {
   "cell_type": "code",
   "execution_count": 42,
   "id": "ec7ad1b0",
   "metadata": {},
   "outputs": [
    {
     "data": {
      "text/plain": [
       "(0.9909999999999997, 12.0)"
      ]
     },
     "execution_count": 42,
     "metadata": {},
     "output_type": "execute_result"
    }
   ],
   "source": [
    "import math\n",
    "# modf() function returns the fractional and integer parts of the number in a two-item tuple. \n",
    "# Both parts have the same sign as the number. The integer part is returned as a float.\n",
    "math.modf(11)\n",
    "math.modf(12.991)"
   ]
  },
  {
   "cell_type": "code",
   "execution_count": 52,
   "id": "b91cf384",
   "metadata": {},
   "outputs": [
    {
     "name": "stdout",
     "output_type": "stream",
     "text": [
      "8.0\n",
      "8.0\n",
      "16.0\n",
      "16\n"
     ]
    }
   ],
   "source": [
    "import math\n",
    "# The math.pow() method returns the value of x raised to power y.\n",
    "# math.pow(x, y)\n",
    "# If x is negative and y is not an integer, it returns a ValueError. This method converts both arguments into a float.\n",
    "\n",
    "print(math.pow(2,3))\n",
    "print(2.0**3)       # Since 2.0 is a float, it will return a float\n",
    "\n",
    "print(math.pow(4,2))\n",
    "print(4**2)         # Since 4 is an integer, it will return an integer"
   ]
  },
  {
   "cell_type": "code",
   "execution_count": 47,
   "id": "a893b5d7",
   "metadata": {},
   "outputs": [
    {
     "data": {
      "text/plain": [
       "3.141592653589793"
      ]
     },
     "execution_count": 47,
     "metadata": {},
     "output_type": "execute_result"
    }
   ],
   "source": [
    "import math\n",
    "math.pi"
   ]
  },
  {
   "cell_type": "code",
   "execution_count": 48,
   "id": "ab31ed2c",
   "metadata": {},
   "outputs": [
    {
     "data": {
      "text/plain": [
       "180.0"
      ]
     },
     "execution_count": 48,
     "metadata": {},
     "output_type": "execute_result"
    }
   ],
   "source": [
    "import math\n",
    "# Radians to Degree\n",
    "math.degrees(math.pi)"
   ]
  },
  {
   "cell_type": "code",
   "execution_count": 50,
   "id": "8c0c2574",
   "metadata": {},
   "outputs": [
    {
     "data": {
      "text/plain": [
       "3.141592653589793"
      ]
     },
     "execution_count": 50,
     "metadata": {},
     "output_type": "execute_result"
    }
   ],
   "source": [
    "import math\n",
    "# Degree to Radians\n",
    "math.radians(180)"
   ]
  },
  {
   "cell_type": "markdown",
   "id": "ee75599c",
   "metadata": {},
   "source": [
    "# Video 37 : String Functions (Capitalise, Count and Endswith)"
   ]
  },
  {
   "cell_type": "code",
   "execution_count": 4,
   "id": "b0914406",
   "metadata": {},
   "outputs": [
    {
     "data": {
      "text/plain": [
       "'Welcome to amuls academy'"
      ]
     },
     "execution_count": 4,
     "metadata": {},
     "output_type": "execute_result"
    }
   ],
   "source": [
    "# Capitalize\n",
    "str1 = 'hello welcome to amuls academy'\n",
    "str1.capitalize()       #capitalize with a 'z'\n",
    "\n",
    "str2 = 'Welcome to amuls academy'\n",
    "str2.capitalize()       #capitalize here wont change the output"
   ]
  },
  {
   "cell_type": "code",
   "execution_count": 8,
   "id": "ca0f5398",
   "metadata": {},
   "outputs": [
    {
     "name": "stdout",
     "output_type": "stream",
     "text": [
      "2\n",
      "3\n"
     ]
    }
   ],
   "source": [
    "# Count\n",
    "str1 = '''Johnny johnny yes papa\n",
    "eating sugar no papa\n",
    "telling lie no papa\n",
    "open your mouth haha\n",
    "'''\n",
    "\n",
    "#str1\n",
    "print(str1.count('no'))\n",
    "print(str1.count('papa'))"
   ]
  },
  {
   "cell_type": "code",
   "execution_count": 9,
   "id": "496a740e",
   "metadata": {},
   "outputs": [
    {
     "name": "stdout",
     "output_type": "stream",
     "text": [
      "True\n",
      "True\n",
      "False\n"
     ]
    }
   ],
   "source": [
    "# Endswith\n",
    "str1 = 'google.com'\n",
    "\n",
    "print('Endswith')\n",
    "print(str1.endswith('com'))\n",
    "print(str1.endswith('m'))\n",
    "print(str1.endswith('org'))"
   ]
  },
  {
   "cell_type": "markdown",
   "id": "91da379e",
   "metadata": {},
   "source": [
    "# Video 38 : String Functions (Find, Length, Split and Title)"
   ]
  },
  {
   "cell_type": "code",
   "execution_count": 17,
   "id": "303a90e7",
   "metadata": {},
   "outputs": [
    {
     "name": "stdout",
     "output_type": "stream",
     "text": [
      "Find\n",
      "12\n",
      "1\n",
      "6\n",
      "7\n"
     ]
    }
   ],
   "source": [
    "str1 = 'amuls academy'\n",
    "\n",
    "# Find\n",
    "print('Find')\n",
    "print(str1.find('y'))\n",
    "print(str1.find('m'))         # only returns the first occurence\n",
    "print(str1.find('academy'))   # can use to find entire words\n",
    "print(str1.find('ca'))        # can use to find parts of a string"
   ]
  },
  {
   "cell_type": "code",
   "execution_count": 18,
   "id": "18fe220a",
   "metadata": {},
   "outputs": [
    {
     "name": "stdout",
     "output_type": "stream",
     "text": [
      "Length\n",
      "13\n"
     ]
    }
   ],
   "source": [
    "str1 = 'amuls academy'\n",
    "\n",
    "# Length\n",
    "print('Length')\n",
    "print(len(str1))"
   ]
  },
  {
   "cell_type": "code",
   "execution_count": 22,
   "id": "1de8aef8",
   "metadata": {},
   "outputs": [
    {
     "name": "stdout",
     "output_type": "stream",
     "text": [
      "['amuls', 'academy']\n",
      "['Hello', 'welcome', 'to', 'amuls', 'academy']\n",
      "['Hell', ' welc', 'me t', ' amuls academy']\n"
     ]
    }
   ],
   "source": [
    "# Split\n",
    "str1 = 'amuls academy'\n",
    "print(str1.split())\n",
    "\n",
    "str2 = 'Hello welcome to amuls academy'\n",
    "print(str2.split())\n",
    "print(str2.split('o'))       # uses letter 'o' as a splitting parameter"
   ]
  },
  {
   "cell_type": "code",
   "execution_count": 23,
   "id": "02272e9f",
   "metadata": {},
   "outputs": [
    {
     "data": {
      "text/plain": [
       "'Hello Welcome To Amuls Academy'"
      ]
     },
     "execution_count": 23,
     "metadata": {},
     "output_type": "execute_result"
    }
   ],
   "source": [
    "# Title - will capatilise each first letter in the string\n",
    "str2 = 'Hello welcome to amuls academy'\n",
    "str2.title()"
   ]
  },
  {
   "cell_type": "markdown",
   "id": "0cb9dbc3",
   "metadata": {},
   "source": [
    "# Video 39 : String Functions (Lower, Upper, IsLower, and IsUpper, Swapcase)"
   ]
  },
  {
   "cell_type": "code",
   "execution_count": 38,
   "id": "7096b0c2",
   "metadata": {},
   "outputs": [
    {
     "name": "stdout",
     "output_type": "stream",
     "text": [
      "amuls academy\n",
      "welcome\n"
     ]
    }
   ],
   "source": [
    "str1 = 'Amuls Academy'\n",
    "str2 = 'WELCOME'\n",
    "str3 = 'haarendran'\n",
    "\n",
    "# Lower\n",
    "print(str1.lower())\n",
    "print(str2.lower())"
   ]
  },
  {
   "cell_type": "code",
   "execution_count": 39,
   "id": "2c7616ff",
   "metadata": {},
   "outputs": [
    {
     "name": "stdout",
     "output_type": "stream",
     "text": [
      "AMULS ACADEMY\n",
      "HAARENDRAN\n"
     ]
    }
   ],
   "source": [
    "str1 = 'Amuls Academy'\n",
    "str2 = 'WELCOME'\n",
    "str3 = 'haarendran'\n",
    "\n",
    "# Upper\n",
    "print(str1.upper())\n",
    "print(str3.upper())"
   ]
  },
  {
   "cell_type": "code",
   "execution_count": 40,
   "id": "85e87394",
   "metadata": {},
   "outputs": [
    {
     "name": "stdout",
     "output_type": "stream",
     "text": [
      "False\n",
      "False\n",
      "True\n"
     ]
    }
   ],
   "source": [
    "str1 = 'Amuls Academy'\n",
    "str2 = 'WELCOME'\n",
    "str3 = 'haarendran'\n",
    "\n",
    "# IsLower\n",
    "print(str2.islower())    # all letters are uppercase\n",
    "print(str1.islower())    # two letters are uppercase \n",
    "print(str3.islower())    # all letters are lowercase"
   ]
  },
  {
   "cell_type": "code",
   "execution_count": 42,
   "id": "07ec5e08",
   "metadata": {},
   "outputs": [
    {
     "name": "stdout",
     "output_type": "stream",
     "text": [
      "True\n",
      "False\n"
     ]
    }
   ],
   "source": [
    "str1 = 'Amuls Academy'\n",
    "str2 = 'WELCOME'\n",
    "str3 = 'haarendran'\n",
    "\n",
    "# IsUpper\n",
    "print(str2.isupper())    # two letters are uppercase\n",
    "print(str3.isupper())    # all letters are lowercase"
   ]
  },
  {
   "cell_type": "code",
   "execution_count": 44,
   "id": "72fa5f83",
   "metadata": {},
   "outputs": [
    {
     "name": "stdout",
     "output_type": "stream",
     "text": [
      "HELLO weLCOME TO amulS ACADEMY\n"
     ]
    }
   ],
   "source": [
    "str1 = 'hello WElcome to AMULs academy'\n",
    "\n",
    "# Swapcase - convert lowercase to uppercase and vice versa\n",
    "print(str1.swapcase())"
   ]
  },
  {
   "cell_type": "markdown",
   "id": "254933aa",
   "metadata": {},
   "source": [
    "# Video 40 : String Functions (Replace, isdigit and isalpha)"
   ]
  },
  {
   "cell_type": "code",
   "execution_count": 46,
   "id": "2de65207",
   "metadata": {},
   "outputs": [
    {
     "name": "stdout",
     "output_type": "stream",
     "text": [
      "hello welcome haarendran\n",
      "hellr welcrme nisha\n"
     ]
    }
   ],
   "source": [
    "str1 = 'hello welcome nisha'\n",
    "\n",
    "# Replace\n",
    "print(str1.replace('nisha', 'haarendran'))   # replace nisha with haarendran\n",
    "print(str1.replace('o', 'r'))                # replace o with r"
   ]
  },
  {
   "cell_type": "code",
   "execution_count": 49,
   "id": "46b4980d",
   "metadata": {},
   "outputs": [
    {
     "name": "stdout",
     "output_type": "stream",
     "text": [
      "False\n",
      "False\n",
      "True\n"
     ]
    }
   ],
   "source": [
    "str1 = 'hello welcome nisha'\n",
    "str2 = '123g'\n",
    "str3 = '123'\n",
    "\n",
    "# IsDigit\n",
    "print(str1.isdigit())\n",
    "print(str2.isdigit())   # false because g is present\n",
    "print(str3.isdigit())"
   ]
  },
  {
   "cell_type": "code",
   "execution_count": 50,
   "id": "5575ab32",
   "metadata": {},
   "outputs": [
    {
     "name": "stdout",
     "output_type": "stream",
     "text": [
      "False\n",
      "False\n",
      "False\n",
      "True\n"
     ]
    }
   ],
   "source": [
    "str1 = 'hello welcome nisha'\n",
    "str2 = '123g'\n",
    "str3 = '123'\n",
    "str4 = 'hello'\n",
    "\n",
    "# IsAlpha - to check if it's alphabets \n",
    "print(str3.isalpha())\n",
    "print(str2.isalpha())\n",
    "print(str1.isalpha())   # contains space which is not alphabets\n",
    "print(str4.isalpha())   # all alphabets so it is True"
   ]
  },
  {
   "cell_type": "markdown",
   "id": "10c1e3af",
   "metadata": {},
   "source": [
    "# Video 41 : String Functions (Strip, lstrip and rstrip)"
   ]
  },
  {
   "cell_type": "code",
   "execution_count": 58,
   "id": "d90b41af",
   "metadata": {},
   "outputs": [
    {
     "name": "stdout",
     "output_type": "stream",
     "text": [
      "hello\n",
      "haarendran\n",
      "hello!!!!!\n",
      "!!!!!hello\n"
     ]
    }
   ],
   "source": [
    "str1 = '!!!!!hello!!!!!'\n",
    "str2 = 'aaaaaahaarendranaaaaaaaaa'\n",
    "\n",
    "# Strip\n",
    "print(str1.strip('!'))\n",
    "print(str2.strip('a'))  # strip function only removes characters from the left and right side of the string not the middle\n",
    "\n",
    "\n",
    "# LStrip - Left side strip\n",
    "print(str1.lstrip('!'))\n",
    "\n",
    "# RStrip - Right side strip\n",
    "print(str1.rstrip('!'))"
   ]
  },
  {
   "cell_type": "markdown",
   "id": "a4224f58",
   "metadata": {},
   "source": [
    "# Video 42 : Modules in Programming"
   ]
  },
  {
   "cell_type": "code",
   "execution_count": 61,
   "id": "c1aa4481",
   "metadata": {},
   "outputs": [
    {
     "name": "stdout",
     "output_type": "stream",
     "text": [
      "Help on built-in module math:\n",
      "\n",
      "NAME\n",
      "    math\n",
      "\n",
      "DESCRIPTION\n",
      "    This module provides access to the mathematical functions\n",
      "    defined by the C standard.\n",
      "\n",
      "FUNCTIONS\n",
      "    acos(x, /)\n",
      "        Return the arc cosine (measured in radians) of x.\n",
      "    \n",
      "    acosh(x, /)\n",
      "        Return the inverse hyperbolic cosine of x.\n",
      "    \n",
      "    asin(x, /)\n",
      "        Return the arc sine (measured in radians) of x.\n",
      "    \n",
      "    asinh(x, /)\n",
      "        Return the inverse hyperbolic sine of x.\n",
      "    \n",
      "    atan(x, /)\n",
      "        Return the arc tangent (measured in radians) of x.\n",
      "    \n",
      "    atan2(y, x, /)\n",
      "        Return the arc tangent (measured in radians) of y/x.\n",
      "        \n",
      "        Unlike atan(y/x), the signs of both x and y are considered.\n",
      "    \n",
      "    atanh(x, /)\n",
      "        Return the inverse hyperbolic tangent of x.\n",
      "    \n",
      "    ceil(x, /)\n",
      "        Return the ceiling of x as an Integral.\n",
      "        \n",
      "        This is the smallest integer >= x.\n",
      "    \n",
      "    comb(n, k, /)\n",
      "        Number of ways to choose k items from n items without repetition and without order.\n",
      "        \n",
      "        Evaluates to n! / (k! * (n - k)!) when k <= n and evaluates\n",
      "        to zero when k > n.\n",
      "        \n",
      "        Also called the binomial coefficient because it is equivalent\n",
      "        to the coefficient of k-th term in polynomial expansion of the\n",
      "        expression (1 + x)**n.\n",
      "        \n",
      "        Raises TypeError if either of the arguments are not integers.\n",
      "        Raises ValueError if either of the arguments are negative.\n",
      "    \n",
      "    copysign(x, y, /)\n",
      "        Return a float with the magnitude (absolute value) of x but the sign of y.\n",
      "        \n",
      "        On platforms that support signed zeros, copysign(1.0, -0.0)\n",
      "        returns -1.0.\n",
      "    \n",
      "    cos(x, /)\n",
      "        Return the cosine of x (measured in radians).\n",
      "    \n",
      "    cosh(x, /)\n",
      "        Return the hyperbolic cosine of x.\n",
      "    \n",
      "    degrees(x, /)\n",
      "        Convert angle x from radians to degrees.\n",
      "    \n",
      "    dist(p, q, /)\n",
      "        Return the Euclidean distance between two points p and q.\n",
      "        \n",
      "        The points should be specified as sequences (or iterables) of\n",
      "        coordinates.  Both inputs must have the same dimension.\n",
      "        \n",
      "        Roughly equivalent to:\n",
      "            sqrt(sum((px - qx) ** 2.0 for px, qx in zip(p, q)))\n",
      "    \n",
      "    erf(x, /)\n",
      "        Error function at x.\n",
      "    \n",
      "    erfc(x, /)\n",
      "        Complementary error function at x.\n",
      "    \n",
      "    exp(x, /)\n",
      "        Return e raised to the power of x.\n",
      "    \n",
      "    expm1(x, /)\n",
      "        Return exp(x)-1.\n",
      "        \n",
      "        This function avoids the loss of precision involved in the direct evaluation of exp(x)-1 for small x.\n",
      "    \n",
      "    fabs(x, /)\n",
      "        Return the absolute value of the float x.\n",
      "    \n",
      "    factorial(x, /)\n",
      "        Find x!.\n",
      "        \n",
      "        Raise a ValueError if x is negative or non-integral.\n",
      "    \n",
      "    floor(x, /)\n",
      "        Return the floor of x as an Integral.\n",
      "        \n",
      "        This is the largest integer <= x.\n",
      "    \n",
      "    fmod(x, y, /)\n",
      "        Return fmod(x, y), according to platform C.\n",
      "        \n",
      "        x % y may differ.\n",
      "    \n",
      "    frexp(x, /)\n",
      "        Return the mantissa and exponent of x, as pair (m, e).\n",
      "        \n",
      "        m is a float and e is an int, such that x = m * 2.**e.\n",
      "        If x is 0, m and e are both 0.  Else 0.5 <= abs(m) < 1.0.\n",
      "    \n",
      "    fsum(seq, /)\n",
      "        Return an accurate floating point sum of values in the iterable seq.\n",
      "        \n",
      "        Assumes IEEE-754 floating point arithmetic.\n",
      "    \n",
      "    gamma(x, /)\n",
      "        Gamma function at x.\n",
      "    \n",
      "    gcd(x, y, /)\n",
      "        greatest common divisor of x and y\n",
      "    \n",
      "    hypot(...)\n",
      "        hypot(*coordinates) -> value\n",
      "        \n",
      "        Multidimensional Euclidean distance from the origin to a point.\n",
      "        \n",
      "        Roughly equivalent to:\n",
      "            sqrt(sum(x**2 for x in coordinates))\n",
      "        \n",
      "        For a two dimensional point (x, y), gives the hypotenuse\n",
      "        using the Pythagorean theorem:  sqrt(x*x + y*y).\n",
      "        \n",
      "        For example, the hypotenuse of a 3/4/5 right triangle is:\n",
      "        \n",
      "            >>> hypot(3.0, 4.0)\n",
      "            5.0\n",
      "    \n",
      "    isclose(a, b, *, rel_tol=1e-09, abs_tol=0.0)\n",
      "        Determine whether two floating point numbers are close in value.\n",
      "        \n",
      "          rel_tol\n",
      "            maximum difference for being considered \"close\", relative to the\n",
      "            magnitude of the input values\n",
      "          abs_tol\n",
      "            maximum difference for being considered \"close\", regardless of the\n",
      "            magnitude of the input values\n",
      "        \n",
      "        Return True if a is close in value to b, and False otherwise.\n",
      "        \n",
      "        For the values to be considered close, the difference between them\n",
      "        must be smaller than at least one of the tolerances.\n",
      "        \n",
      "        -inf, inf and NaN behave similarly to the IEEE 754 Standard.  That\n",
      "        is, NaN is not close to anything, even itself.  inf and -inf are\n",
      "        only close to themselves.\n",
      "    \n",
      "    isfinite(x, /)\n",
      "        Return True if x is neither an infinity nor a NaN, and False otherwise.\n",
      "    \n",
      "    isinf(x, /)\n",
      "        Return True if x is a positive or negative infinity, and False otherwise.\n",
      "    \n",
      "    isnan(x, /)\n",
      "        Return True if x is a NaN (not a number), and False otherwise.\n",
      "    \n",
      "    isqrt(n, /)\n",
      "        Return the integer part of the square root of the input.\n",
      "    \n",
      "    ldexp(x, i, /)\n",
      "        Return x * (2**i).\n",
      "        \n",
      "        This is essentially the inverse of frexp().\n",
      "    \n",
      "    lgamma(x, /)\n",
      "        Natural logarithm of absolute value of Gamma function at x.\n",
      "    \n",
      "    log(...)\n",
      "        log(x, [base=math.e])\n",
      "        Return the logarithm of x to the given base.\n",
      "        \n",
      "        If the base not specified, returns the natural logarithm (base e) of x.\n",
      "    \n",
      "    log10(x, /)\n",
      "        Return the base 10 logarithm of x.\n",
      "    \n",
      "    log1p(x, /)\n",
      "        Return the natural logarithm of 1+x (base e).\n",
      "        \n",
      "        The result is computed in a way which is accurate for x near zero.\n",
      "    \n",
      "    log2(x, /)\n",
      "        Return the base 2 logarithm of x.\n",
      "    \n",
      "    modf(x, /)\n",
      "        Return the fractional and integer parts of x.\n",
      "        \n",
      "        Both results carry the sign of x and are floats.\n",
      "    \n",
      "    perm(n, k=None, /)\n",
      "        Number of ways to choose k items from n items without repetition and with order.\n",
      "        \n",
      "        Evaluates to n! / (n - k)! when k <= n and evaluates\n",
      "        to zero when k > n.\n",
      "        \n",
      "        If k is not specified or is None, then k defaults to n\n",
      "        and the function returns n!.\n",
      "        \n",
      "        Raises TypeError if either of the arguments are not integers.\n",
      "        Raises ValueError if either of the arguments are negative.\n",
      "    \n",
      "    pow(x, y, /)\n",
      "        Return x**y (x to the power of y).\n",
      "    \n",
      "    prod(iterable, /, *, start=1)\n",
      "        Calculate the product of all the elements in the input iterable.\n",
      "        \n",
      "        The default start value for the product is 1.\n",
      "        \n",
      "        When the iterable is empty, return the start value.  This function is\n",
      "        intended specifically for use with numeric values and may reject\n",
      "        non-numeric types.\n",
      "    \n",
      "    radians(x, /)\n",
      "        Convert angle x from degrees to radians.\n",
      "    \n",
      "    remainder(x, y, /)\n",
      "        Difference between x and the closest integer multiple of y.\n",
      "        \n",
      "        Return x - n*y where n*y is the closest integer multiple of y.\n",
      "        In the case where x is exactly halfway between two multiples of\n",
      "        y, the nearest even value of n is used. The result is always exact.\n",
      "    \n",
      "    sin(x, /)\n",
      "        Return the sine of x (measured in radians).\n",
      "    \n",
      "    sinh(x, /)\n",
      "        Return the hyperbolic sine of x.\n",
      "    \n",
      "    sqrt(x, /)\n",
      "        Return the square root of x.\n",
      "    \n",
      "    tan(x, /)\n",
      "        Return the tangent of x (measured in radians).\n",
      "    \n",
      "    tanh(x, /)\n",
      "        Return the hyperbolic tangent of x.\n",
      "    \n",
      "    trunc(x, /)\n",
      "        Truncates the Real x to the nearest Integral toward 0.\n",
      "        \n",
      "        Uses the __trunc__ magic method.\n",
      "\n",
      "DATA\n",
      "    e = 2.718281828459045\n",
      "    inf = inf\n",
      "    nan = nan\n",
      "    pi = 3.141592653589793\n",
      "    tau = 6.283185307179586\n",
      "\n",
      "FILE\n",
      "    (built-in)\n",
      "\n",
      "\n"
     ]
    }
   ],
   "source": [
    "# Modules are group of functions or statements and we can use this modules in any program.\n",
    "# To use module we need use import keyword.\n",
    "\n",
    "# Importing \n",
    "import math\n",
    "math.factorial(4)\n",
    "\n",
    "# To see all the functions within math module\n",
    "help(math)"
   ]
  },
  {
   "cell_type": "code",
   "execution_count": null,
   "id": "baae3a53",
   "metadata": {},
   "outputs": [],
   "source": []
  }
 ],
 "metadata": {
  "kernelspec": {
   "display_name": "Python 3",
   "language": "python",
   "name": "python3"
  },
  "language_info": {
   "codemirror_mode": {
    "name": "ipython",
    "version": 3
   },
   "file_extension": ".py",
   "mimetype": "text/x-python",
   "name": "python",
   "nbconvert_exporter": "python",
   "pygments_lexer": "ipython3",
   "version": "3.8.8"
  }
 },
 "nbformat": 4,
 "nbformat_minor": 5
}
