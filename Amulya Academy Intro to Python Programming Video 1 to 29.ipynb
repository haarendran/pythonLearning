{
 "cells": [
  {
   "cell_type": "markdown",
   "id": "0cb173e8",
   "metadata": {},
   "source": [
    "# Jupyter Notebook Shortcuts"
   ]
  },
  {
   "cell_type": "code",
   "execution_count": 35,
   "id": "368a6fdf",
   "metadata": {},
   "outputs": [],
   "source": [
    "# Shortcuts in both modes:\n",
    "# Shift + Enter run the current cell, select below\n",
    "# Ctrl + Enter run selected cells\n",
    "# Alt + Enter run the current cell, insert below\n",
    "# Ctrl + S save and checkpoint\n",
    "\n",
    "# While in command mode (press Esc to activate):\n",
    "# Press ESC and then H to show all shortcuts.\n",
    "# Press ESC and then P to open the command palette.\n",
    "\n",
    "# While in edit mode (pressEnter to activate)\n",
    "# Tab code completion or indent.\n",
    "# Shift + Tab for tooltip.\n",
    "# Ctrl + ] to indent.\n",
    "# Ctrl + [ to dedent.\n",
    "## Ctrl + / to comment lines.\n",
    "# Ctrl + Home go to cell start\n",
    "# Ctrl + End go to cell end\n",
    "## Ctrl + Left go one word left\n",
    "## Ctrl + Right go one word right\n",
    "## Ctrl + Shift + P open the command palette"
   ]
  },
  {
   "cell_type": "markdown",
   "id": "cc4b37be",
   "metadata": {},
   "source": [
    "# Literals and Format"
   ]
  },
  {
   "cell_type": "code",
   "execution_count": 1,
   "id": "4d8f76bb",
   "metadata": {},
   "outputs": [
    {
     "data": {
      "text/plain": [
       "0.8888888888888888"
      ]
     },
     "execution_count": 1,
     "metadata": {},
     "output_type": "execute_result"
    }
   ],
   "source": [
    "8/9"
   ]
  },
  {
   "cell_type": "code",
   "execution_count": 2,
   "id": "56ff1b35",
   "metadata": {},
   "outputs": [
    {
     "data": {
      "text/plain": [
       "'0.889'"
      ]
     },
     "execution_count": 2,
     "metadata": {},
     "output_type": "execute_result"
    }
   ],
   "source": [
    "# Formating the output to 3 decimal places\n",
    "format(8/9,\".3f\")"
   ]
  },
  {
   "cell_type": "code",
   "execution_count": 7,
   "id": "d29eccb7",
   "metadata": {},
   "outputs": [
    {
     "data": {
      "text/plain": [
       "'hello                         '"
      ]
     },
     "execution_count": 7,
     "metadata": {},
     "output_type": "execute_result"
    }
   ],
   "source": [
    "# Left justified with 30 characters\n",
    "format(\"hello\", \"<30\")"
   ]
  },
  {
   "cell_type": "code",
   "execution_count": 5,
   "id": "001a869d",
   "metadata": {},
   "outputs": [
    {
     "data": {
      "text/plain": [
       "'                         hello'"
      ]
     },
     "execution_count": 5,
     "metadata": {},
     "output_type": "execute_result"
    }
   ],
   "source": [
    "# Right justified with 30 characters\n",
    "format(\"hello\", \">30\")"
   ]
  },
  {
   "cell_type": "code",
   "execution_count": 6,
   "id": "8d360f53",
   "metadata": {},
   "outputs": [
    {
     "data": {
      "text/plain": [
       "'            hello             '"
      ]
     },
     "execution_count": 6,
     "metadata": {},
     "output_type": "execute_result"
    }
   ],
   "source": [
    "# Centered with 30 characters\n",
    "format(\"hello\", \"^30\")"
   ]
  },
  {
   "cell_type": "markdown",
   "id": "ad569c40",
   "metadata": {},
   "source": [
    "# Identifiers, Keywords, and Control Characters"
   ]
  },
  {
   "cell_type": "code",
   "execution_count": 28,
   "id": "b0275e92",
   "metadata": {},
   "outputs": [],
   "source": [
    "# Variable is an example of an identifier\n",
    "var_1 = 90\n",
    "_var = 80\n"
   ]
  },
  {
   "cell_type": "code",
   "execution_count": 29,
   "id": "d527e97e",
   "metadata": {
    "scrolled": true
   },
   "outputs": [
    {
     "ename": "SyntaxError",
     "evalue": "invalid syntax (<ipython-input-29-2aae8130a68c>, line 2)",
     "output_type": "error",
     "traceback": [
      "\u001b[1;36m  File \u001b[1;32m\"<ipython-input-29-2aae8130a68c>\"\u001b[1;36m, line \u001b[1;32m2\u001b[0m\n\u001b[1;33m    5var = 100\u001b[0m\n\u001b[1;37m     ^\u001b[0m\n\u001b[1;31mSyntaxError\u001b[0m\u001b[1;31m:\u001b[0m invalid syntax\n"
     ]
    }
   ],
   "source": [
    "# Error because variabels cannot start with a number\n",
    "5var = 100"
   ]
  },
  {
   "cell_type": "code",
   "execution_count": 17,
   "id": "b932d9e9",
   "metadata": {
    "scrolled": true
   },
   "outputs": [
    {
     "ename": "SyntaxError",
     "evalue": "invalid syntax (<ipython-input-17-eac7e6c23693>, line 1)",
     "output_type": "error",
     "traceback": [
      "\u001b[1;36m  File \u001b[1;32m\"<ipython-input-17-eac7e6c23693>\"\u001b[1;36m, line \u001b[1;32m1\u001b[0m\n\u001b[1;33m    and = 78\u001b[0m\n\u001b[1;37m    ^\u001b[0m\n\u001b[1;31mSyntaxError\u001b[0m\u001b[1;31m:\u001b[0m invalid syntax\n"
     ]
    }
   ],
   "source": [
    "# Keywords\n",
    "and = 78 #cannot use keywords as variable name"
   ]
  },
  {
   "cell_type": "code",
   "execution_count": 19,
   "id": "200fc11a",
   "metadata": {},
   "outputs": [
    {
     "name": "stdout",
     "output_type": "stream",
     "text": [
      "\n",
      "Here is a list of the Python keywords.  Enter any keyword to get more help.\n",
      "\n",
      "False               class               from                or\n",
      "None                continue            global              pass\n",
      "True                def                 if                  raise\n",
      "and                 del                 import              return\n",
      "as                  elif                in                  try\n",
      "assert              else                is                  while\n",
      "async               except              lambda              with\n",
      "await               finally             nonlocal            yield\n",
      "break               for                 not                 \n",
      "\n"
     ]
    }
   ],
   "source": [
    "help('keywords')"
   ]
  },
  {
   "cell_type": "code",
   "execution_count": 21,
   "id": "a8611a3c",
   "metadata": {},
   "outputs": [
    {
     "name": "stdout",
     "output_type": "stream",
     "text": [
      "hello \n",
      " welcome to amuls academy\n"
     ]
    }
   ],
   "source": [
    "# Control characters\n",
    "print (\"hello \\n welcome to amuls academy\") # line break"
   ]
  },
  {
   "cell_type": "markdown",
   "id": "67f6588f",
   "metadata": {},
   "source": [
    "# Implicit and Explicit line joining"
   ]
  },
  {
   "cell_type": "code",
   "execution_count": 23,
   "id": "d48be093",
   "metadata": {},
   "outputs": [
    {
     "name": "stdout",
     "output_type": "stream",
     "text": [
      "hello welcome\n"
     ]
    }
   ],
   "source": [
    "# Implicit line joining\n",
    "print(\"hello\"\n",
    "     \" welcome\")"
   ]
  },
  {
   "cell_type": "code",
   "execution_count": 27,
   "id": "45b69596",
   "metadata": {},
   "outputs": [
    {
     "name": "stdout",
     "output_type": "stream",
     "text": [
      "hello welcome\n"
     ]
    }
   ],
   "source": [
    "# Explicit line joining\n",
    "# Cannot have space after '\\'\n",
    "print(\"hello\\\n",
    " welcome\")"
   ]
  },
  {
   "cell_type": "markdown",
   "id": "154d2ec0",
   "metadata": {},
   "source": [
    "# Operators"
   ]
  },
  {
   "cell_type": "code",
   "execution_count": null,
   "id": "4283c7b7",
   "metadata": {},
   "outputs": [],
   "source": [
    "# Based on operands, there are two types, unary operator and binary operator. E.g +, -, *, /.\n",
    "\n",
    "# If single operand is present then it is unary operator. For example, if it is '-4' then 4 is the operand and '-' is the unary operator. \n",
    "# If two operands is present then it is binary operator. Binary operator will be '4 + 5'."
   ]
  },
  {
   "cell_type": "code",
   "execution_count": null,
   "id": "19225b76",
   "metadata": {},
   "outputs": [],
   "source": [
    "# Based on operators, they are 4 types, arithmetic, relational, membership and boolean operator."
   ]
  },
  {
   "cell_type": "code",
   "execution_count": null,
   "id": "e8909925",
   "metadata": {},
   "outputs": [],
   "source": [
    "# They are 8 Arithmetic Operators. Negation, Addition, Substraction, Multiplication, Division, Truncating Div, Modulus and Exponential.\n",
    "\n",
    "# Negation is adding negative to a value. E.g -5.\n",
    "# Truncating division returns whole number of a division result. E.g 5//4 = 1.\n",
    "# Modulus retuns the remainder of a division. E.g 5%2 = 1.\n",
    "# Exponential is adding a power value to the base number. E.g 2**5 = 32."
   ]
  },
  {
   "cell_type": "code",
   "execution_count": 5,
   "id": "946a24c7",
   "metadata": {},
   "outputs": [
    {
     "name": "stdout",
     "output_type": "stream",
     "text": [
      "True\n",
      "False\n",
      "True\n",
      "True\n",
      "True\n",
      "True\n"
     ]
    }
   ],
   "source": [
    "# They are 6 relational operators. \n",
    "# Equal -> \n",
    "print(5==5)\n",
    "\n",
    "# NOT equal -> \n",
    "print(5!=5)\n",
    "\n",
    "# Less than -> \n",
    "print(5<6)\n",
    "\n",
    "# Greaterthan -> \n",
    "print(6>5)\n",
    "\n",
    "# Less than or equal to -> \n",
    "print(5<=6)\n",
    "\n",
    "# greater than or equal to -> \n",
    "print(6>=5)"
   ]
  },
  {
   "cell_type": "code",
   "execution_count": 3,
   "id": "dfee7aa7",
   "metadata": {},
   "outputs": [
    {
     "name": "stdout",
     "output_type": "stream",
     "text": [
      "True\n",
      "False\n"
     ]
    }
   ],
   "source": [
    "# They are 2 membership operators, in and not in.\n",
    "\n",
    "print(5 in [2,3,4,5,6,7])\n",
    "print(5 not in [2,3,4,5,6,7])"
   ]
  },
  {
   "cell_type": "code",
   "execution_count": 9,
   "id": "949d987e",
   "metadata": {},
   "outputs": [
    {
     "name": "stdout",
     "output_type": "stream",
     "text": [
      "True\n",
      "False\n",
      "True\n",
      "True\n",
      "True\n",
      "False\n"
     ]
    }
   ],
   "source": [
    "# They are 3 boolean operators, 'and', 'or', 'not'.\n",
    "\n",
    "print(5<6 and 4==4)\n",
    "print(5>6 and 5==5)\n",
    "\n",
    "print(5<6 or 5==5) # if first argument is True, then second argument wont be checked\n",
    "print(5>6 or 5==5) # Note that 5 is more than 6\n",
    "\n",
    "print(10>5)\n",
    "print(not(10>5))"
   ]
  },
  {
   "cell_type": "markdown",
   "id": "404f5380",
   "metadata": {},
   "source": [
    "# Precedence and Associativity"
   ]
  },
  {
   "cell_type": "code",
   "execution_count": 1,
   "id": "d8f61901",
   "metadata": {},
   "outputs": [
    {
     "name": "stdout",
     "output_type": "stream",
     "text": [
      "28\n",
      "6\n",
      "2417851639229258349412352\n",
      "81\n",
      "2417851639229258349412352\n"
     ]
    }
   ],
   "source": [
    "# When we use different operators, we have to use the rule of priority or BODMAS to evaluate the arguments correctly.\n",
    "# Look at the precedence chart to know the operators with the highest and lowest priority.\n",
    "# They are to associative rules for same precedence, left to right evaluation and vice versa.\n",
    "\n",
    "print((2+5)*4)    # without the parantheses the output will be 22 instead of 28\n",
    "\n",
    "print(2+5-1)      # addition and multiplication (same precedence) follows left to right evaluation\n",
    "\n",
    "print(2**3**4)    # 3**4 will be evaluated first then 2**81 will be evaluated.\n",
    "print(3**4)\n",
    "print(2**81)"
   ]
  },
  {
   "cell_type": "markdown",
   "id": "25946843",
   "metadata": {},
   "source": [
    "# Input and Output Function"
   ]
  },
  {
   "cell_type": "code",
   "execution_count": 2,
   "id": "e902e589",
   "metadata": {},
   "outputs": [
    {
     "name": "stdout",
     "output_type": "stream",
     "text": [
      "Please enter your name: Haaren\n"
     ]
    },
    {
     "data": {
      "text/plain": [
       "'Haaren'"
      ]
     },
     "execution_count": 2,
     "metadata": {},
     "output_type": "execute_result"
    }
   ],
   "source": [
    "# Functions are statements that are grouped together to do a particular task.\n",
    "\n",
    "# input() function is used for entering inputs.\n",
    "input('Please enter your name: ')"
   ]
  },
  {
   "cell_type": "code",
   "execution_count": 3,
   "id": "e7fa24ae",
   "metadata": {},
   "outputs": [
    {
     "name": "stdout",
     "output_type": "stream",
     "text": [
      "Hello Welcome\n"
     ]
    }
   ],
   "source": [
    "# print() function is used for outputting values\n",
    "print(\"Hello Welcome\")"
   ]
  },
  {
   "cell_type": "code",
   "execution_count": 4,
   "id": "2b6a5bfb",
   "metadata": {},
   "outputs": [
    {
     "name": "stdout",
     "output_type": "stream",
     "text": [
      "10\n"
     ]
    }
   ],
   "source": [
    "var = 10\n",
    "print(var)"
   ]
  },
  {
   "cell_type": "code",
   "execution_count": 15,
   "id": "8f19d82a",
   "metadata": {
    "scrolled": true
   },
   "outputs": [
    {
     "name": "stdout",
     "output_type": "stream",
     "text": [
      "Please enter your name: Haaren\n",
      "Welcome Haaren\n"
     ]
    }
   ],
   "source": [
    "name = input('Please enter your name: ')\n",
    "print(\"Welcome\", name)"
   ]
  },
  {
   "cell_type": "markdown",
   "id": "5ff2c573",
   "metadata": {},
   "source": [
    "# Control Structures"
   ]
  },
  {
   "cell_type": "code",
   "execution_count": null,
   "id": "d2036db7",
   "metadata": {},
   "outputs": [],
   "source": [
    "# There are 3 types of control structures, sequential, selection, and iterative.\n",
    "# Sequential : Instructions will follow the sequential order. It will follows the order of the program.\n",
    "# Selection : Based on true and false of the condition. If it's true, then the true selection will be executed.\n",
    "# Iterative : As long as the condition is true, the codes will be executed within the loop."
   ]
  },
  {
   "cell_type": "code",
   "execution_count": 17,
   "id": "bee66c34",
   "metadata": {},
   "outputs": [
    {
     "name": "stdout",
     "output_type": "stream",
     "text": [
      "Hello\n",
      "Welcome\n",
      "My name is Haarendran\n"
     ]
    }
   ],
   "source": [
    "# Sequential Control\n",
    "print(\"Hello\")\n",
    "print(\"Welcome\")\n",
    "print(\"My name is Haarendran\")"
   ]
  },
  {
   "cell_type": "code",
   "execution_count": 19,
   "id": "06ced644",
   "metadata": {},
   "outputs": [
    {
     "name": "stdout",
     "output_type": "stream",
     "text": [
      "Enter a interger value: 100\n",
      "Value is greater than 10.\n"
     ]
    }
   ],
   "source": [
    "# Selection Control\n",
    "var = int(input(\"Enter a interger value: \"))\n",
    "\n",
    "if var < 10:\n",
    "    print(\"Value is less than 10.\")\n",
    "else:\n",
    "    print(\"Value is greater than 10.\")"
   ]
  },
  {
   "cell_type": "code",
   "execution_count": 22,
   "id": "a17a5489",
   "metadata": {},
   "outputs": [
    {
     "name": "stdout",
     "output_type": "stream",
     "text": [
      "0\n",
      "2\n",
      "4\n",
      "6\n",
      "8\n",
      "10\n"
     ]
    }
   ],
   "source": [
    "# Iterative Control\n",
    "var = 0\n",
    "\n",
    "while var<=10:\n",
    "    print(var)\n",
    "    var=var+2"
   ]
  },
  {
   "cell_type": "markdown",
   "id": "3da07656",
   "metadata": {},
   "source": [
    "# If-Else Statements"
   ]
  },
  {
   "cell_type": "code",
   "execution_count": null,
   "id": "1b6b0010",
   "metadata": {},
   "outputs": [],
   "source": [
    "# There are three types of selection control statements. One being if statement,  if-else statement, multiway selection: i) nested if and i) elief header."
   ]
  },
  {
   "cell_type": "code",
   "execution_count": 6,
   "id": "9b623a74",
   "metadata": {},
   "outputs": [
    {
     "name": "stdout",
     "output_type": "stream",
     "text": [
      "Please enter your exam marks: 100\n",
      "Perfect Score!\n",
      "Thank You\n"
     ]
    }
   ],
   "source": [
    "# If Statement\n",
    "\n",
    "# Syntax\n",
    "# if condition:\n",
    "#     action\n",
    "\n",
    "# Example\n",
    "marks = int(input(\"Please enter your exam marks: \"))\n",
    "if marks==100:\n",
    "    print(\"Perfect Score!\")\n",
    "print(\"Thank You.\")"
   ]
  },
  {
   "cell_type": "code",
   "execution_count": 4,
   "id": "a8d6f0b4",
   "metadata": {},
   "outputs": [
    {
     "name": "stdout",
     "output_type": "stream",
     "text": [
      "Please enter your exam marks: 50\n",
      "You passed!\n",
      "Thank You!\n"
     ]
    }
   ],
   "source": [
    "# If-else statement\n",
    "\n",
    "# Syntax\n",
    "# if condition:\n",
    "#     action\n",
    "# else:\n",
    "#     action\n",
    "\n",
    "# Example \n",
    "marks = int(input(\"Please enter your exam marks: \"))\n",
    "if marks >= 35:\n",
    "    print(\"You passed!\")\n",
    "else:\n",
    "    print(\"Unfortunately, you failed.\")\n",
    "print(\"Thank You.\")"
   ]
  },
  {
   "cell_type": "code",
   "execution_count": 8,
   "id": "406c49eb",
   "metadata": {},
   "outputs": [
    {
     "name": "stdout",
     "output_type": "stream",
     "text": [
      "Amuls of xyz college got : 56 marks\n"
     ]
    }
   ],
   "source": [
    "# Nested if statements\n",
    "# A nested if is an if statement that is the target of another if statement.\n",
    "# Nested if statements means an if statement within another if statement.\n",
    "\n",
    "# Syntax\n",
    "# if condition:\n",
    "#     if condition:\n",
    "#         action\n",
    "\n",
    "# Example\n",
    "name = 'Amul'\n",
    "clg = 'xyz'\n",
    "marks = 56\n",
    "\n",
    "if clg == 'xyz':\n",
    "    if name == 'Amul':\n",
    "        print (\"Amuls of xyz college got :\", marks, \"marks\")"
   ]
  },
  {
   "cell_type": "code",
   "execution_count": 10,
   "id": "afe3ec46",
   "metadata": {},
   "outputs": [
    {
     "name": "stdout",
     "output_type": "stream",
     "text": [
      "Y is Greater\n"
     ]
    }
   ],
   "source": [
    "# Elif header\n",
    "# Else if or if elif else ladder\n",
    "\n",
    "# If statements are executed from the top down. As soon as one of the if condition becomes true, its body is executed, \n",
    "# and the rest of the conditions are not checked. If none of the condition is true then final else statement is executed.\n",
    "\n",
    "# Syntax for if-else\n",
    "# if condition1:\n",
    "#     action1\n",
    "# else:\n",
    "#     if condition2:\n",
    "#         action2\n",
    "#     else:\n",
    "#         if condition 3:\n",
    "#             action3\n",
    "#         else:\n",
    "#             action4\n",
    "\n",
    "# Variables for Examples\n",
    "x = 20\n",
    "y = 45\n",
    "z = 23\n",
    "\n",
    "# Example\n",
    "# if x>y and x>z:\n",
    "#     print(\"X is Greater\")\n",
    "# else:\n",
    "#     if z>y:\n",
    "#         print(\"Z if Greater\")\n",
    "#     else:\n",
    "#         print(\"Y is Greater\")\n",
    "        \n",
    "# Syntax for elif\n",
    "# if condition1:\n",
    "#     action1\n",
    "# elif condition2:\n",
    "#     action2\n",
    "# elif condition3:\n",
    "#     action3\n",
    "# else:\n",
    "#     action4\n",
    "\n",
    "# Example\n",
    "# if x>y and x>z:\n",
    "#     print(\"X is Greater\")\n",
    "# elif z>y:\n",
    "#     print(\"Z if Greater\")\n",
    "# else:\n",
    "#     print(\"Y is Greater\")"
   ]
  },
  {
   "cell_type": "markdown",
   "id": "1e35fb96",
   "metadata": {},
   "source": [
    "# Iterative Control"
   ]
  },
  {
   "cell_type": "code",
   "execution_count": 17,
   "id": "ca8db4c5",
   "metadata": {},
   "outputs": [
    {
     "name": "stdout",
     "output_type": "stream",
     "text": [
      "Character is P\n",
      "Character is y\n",
      "Character is t\n",
      "Character is h\n",
      "Character is o\n",
      "Character is n\n",
      "Number is 10\n",
      "Number is 20\n",
      "Number is 30\n",
      "Number is 40\n",
      "10 lesser than 25\n",
      "20 lesser than 25\n",
      "30 greater than 25\n",
      "40 greater than 25\n"
     ]
    }
   ],
   "source": [
    "# There are two iterative controls, for statements and while statements.\n",
    "\n",
    "# Syntax for 'for loop'\n",
    "# for variable in sequence:\n",
    "#     action\n",
    "    \n",
    "# Example of for-loop with String\n",
    "for letter in \"Python\":\n",
    "    print(\"Character is\", letter)\n",
    "\n",
    "# Example of for-loop with Lists\n",
    "for number in [10,20,30,40]:\n",
    "    print(\"Number is\", number)\n",
    "\n",
    "# Example of for-loop with if-else statements\n",
    "for num in [10,20,30,40]:\n",
    "    if num >= 25:\n",
    "        print(num, \"greater than 25\")\n",
    "    else:\n",
    "        print(num, \"lesser than 25\")"
   ]
  },
  {
   "cell_type": "code",
   "execution_count": 18,
   "id": "2917af3c",
   "metadata": {},
   "outputs": [
    {
     "name": "stdout",
     "output_type": "stream",
     "text": [
      "1\n",
      "2\n",
      "3\n",
      "4\n",
      "5\n",
      "Good Bye\n"
     ]
    }
   ],
   "source": [
    "# Syntax for 'while loop'\n",
    "# while condition:\n",
    "#     action\n",
    "\n",
    "# Example of while-loop\n",
    "count = 1\n",
    "while count <= 5:\n",
    "    print (count)\n",
    "    count=count+1\n",
    "print(\"Good Bye\")\n",
    "\n"
   ]
  },
  {
   "cell_type": "markdown",
   "id": "931a95a3",
   "metadata": {},
   "source": [
    "# Loop Controls: Break and Continue"
   ]
  },
  {
   "cell_type": "code",
   "execution_count": 21,
   "id": "8878ecc3",
   "metadata": {},
   "outputs": [
    {
     "name": "stdout",
     "output_type": "stream",
     "text": [
      "0\n",
      "1\n",
      "2\n",
      "Thank you\n",
      "A\n",
      "m\n",
      "Thank you\n"
     ]
    }
   ],
   "source": [
    "# Example for Break statament in while loop\n",
    "\n",
    "count = 0\n",
    "while count <= 5:\n",
    "    if count==3:\n",
    "        break\n",
    "    else:\n",
    "        print(count)\n",
    "    count=count+1\n",
    "print(\"Thank you\")\n",
    "\n",
    "# Example for Break statament in for loop\n",
    "\n",
    "for letter in \"Amuls\":\n",
    "    if letter == \"u\":\n",
    "        break\n",
    "    else:\n",
    "        print(letter)\n",
    "print(\"Thank you\")"
   ]
  },
  {
   "cell_type": "code",
   "execution_count": 24,
   "id": "ac6a5b1a",
   "metadata": {},
   "outputs": [
    {
     "name": "stdout",
     "output_type": "stream",
     "text": [
      "9\n",
      "8\n",
      "7\n",
      "6\n",
      "5\n",
      "4\n",
      "2\n",
      "1\n",
      "0\n",
      "Thank you\n",
      "A\n",
      "m\n",
      "l\n",
      "s\n",
      "Thank you\n"
     ]
    }
   ],
   "source": [
    "# Example for Continue statament in while loop\n",
    "\n",
    "var = 10\n",
    "while var > 0:\n",
    "    var = var-1\n",
    "    if var==3:\n",
    "        continue\n",
    "    print(var)\n",
    "print(\"Thank you\")\n",
    "\n",
    "# Example for Continue statament in for loop\n",
    "\n",
    "for letter in \"Amuls\":\n",
    "    if letter == \"u\":\n",
    "        continue # brings the control to the start of the for loop if condition is true\n",
    "    else:\n",
    "        print(letter)\n",
    "print(\"Thank you\")"
   ]
  },
  {
   "cell_type": "markdown",
   "id": "dd80cf55",
   "metadata": {},
   "source": [
    "# List "
   ]
  },
  {
   "cell_type": "code",
   "execution_count": 40,
   "id": "7e48a542",
   "metadata": {},
   "outputs": [
    {
     "name": "stdout",
     "output_type": "stream",
     "text": [
      "monkey\n",
      "[10, 20.4, 'hello', 54]\n",
      "The third element in list1 is hello\n",
      "[10, 20]\n",
      "10\n"
     ]
    }
   ],
   "source": [
    "# List is a group of items.\n",
    "# List is mutable, meaning you can add and remove elements within the list.\n",
    "# List has a linear data structure.\n",
    "# List can have mixed type of elements, meaning string, integer or float values.\n",
    "# List has variable length. It can be altered to change the number of elements in a list.\n",
    "# Zero based index, meaning it starts with an index of 0 to refer to the first element.\n",
    "\n",
    "animals = [\"monkey\", \"dog\", \"cat\"]\n",
    "animals\n",
    "print(animals[0]) # refers to the first element in the list\n",
    "\n",
    "list1 = [10, 20.4, 'hello', 54] # list can store different types of values\n",
    "print(list1)\n",
    "print(\"The third element in list1 is\",list1[2]) # prints the third element in the list\n",
    "\n",
    "list2 = [[10,20],[30,40]]\n",
    "list2\n",
    "print(list2[0])\n",
    "print(list2[0][0]) # prints the first element within the first list of the list"
   ]
  },
  {
   "cell_type": "code",
   "execution_count": null,
   "id": "65cddd60",
   "metadata": {},
   "outputs": [],
   "source": [
    "# List Operations in Python Programming\n",
    "# There are 6 list operations : replace, insert, sort, delete, append, and reverse."
   ]
  },
  {
   "cell_type": "code",
   "execution_count": 27,
   "id": "da3b4452",
   "metadata": {},
   "outputs": [
    {
     "name": "stdout",
     "output_type": "stream",
     "text": [
      "[10, 20, 3.7, 5.7]\n"
     ]
    }
   ],
   "source": [
    "# Replace\n",
    "# To replace we have to specify the index then use the '=' symbol to replace the value.\n",
    "list1 = [10,20,40,5.7]\n",
    "list1[2] = 3.7\n",
    "print(list1)"
   ]
  },
  {
   "cell_type": "code",
   "execution_count": 3,
   "id": "51365134",
   "metadata": {},
   "outputs": [
    {
     "data": {
      "text/plain": [
       "[10, 20, 'hello', 'hello', 3.7, 5.7]"
      ]
     },
     "execution_count": 3,
     "metadata": {},
     "output_type": "execute_result"
    }
   ],
   "source": [
    "# Insert\n",
    "# Use .insert(index, value) to insert a value into the list.\n",
    "list1.insert(2, 'hello')\n",
    "print(list1)"
   ]
  },
  {
   "cell_type": "code",
   "execution_count": 26,
   "id": "dc1c8056",
   "metadata": {},
   "outputs": [
    {
     "name": "stdout",
     "output_type": "stream",
     "text": [
      "['cat', 'dog', 'lion', 'monkey']\n",
      "[2.3, 4, 10, 30]\n"
     ]
    }
   ],
   "source": [
    "# Sort\n",
    "# Sort can only work on lists that use similar type of values. For example, only numbers or only strings.\n",
    "# list1.sort()\n",
    "\n",
    "# Sorting strings in alphabetical order\n",
    "animals = ['monkey', 'dog', 'cat', 'lion']\n",
    "animals.sort()\n",
    "print(animals)\n",
    "\n",
    "# Sorting numerical values in alphabetical order\n",
    "list2 = [10,2.3,30,4]\n",
    "list2.sort()\n",
    "print(list2)"
   ]
  },
  {
   "cell_type": "code",
   "execution_count": 24,
   "id": "23e8318f",
   "metadata": {},
   "outputs": [
    {
     "name": "stdout",
     "output_type": "stream",
     "text": [
      "[2, 6, 10]\n"
     ]
    },
    {
     "ename": "NameError",
     "evalue": "name 'list3' is not defined",
     "output_type": "error",
     "traceback": [
      "\u001b[1;31m---------------------------------------------------------------------------\u001b[0m",
      "\u001b[1;31mNameError\u001b[0m                                 Traceback (most recent call last)",
      "\u001b[1;32m<ipython-input-24-47caf81efb09>\u001b[0m in \u001b[0;36m<module>\u001b[1;34m\u001b[0m\n\u001b[0;32m      7\u001b[0m \u001b[1;31m# If no index is specified, then it will delete the entire list.\u001b[0m\u001b[1;33m\u001b[0m\u001b[1;33m\u001b[0m\u001b[1;33m\u001b[0m\u001b[0m\n\u001b[0;32m      8\u001b[0m \u001b[1;32mdel\u001b[0m \u001b[0mlist3\u001b[0m\u001b[1;33m\u001b[0m\u001b[1;33m\u001b[0m\u001b[0m\n\u001b[1;32m----> 9\u001b[1;33m \u001b[0mlist3\u001b[0m\u001b[1;33m\u001b[0m\u001b[1;33m\u001b[0m\u001b[0m\n\u001b[0m",
      "\u001b[1;31mNameError\u001b[0m: name 'list3' is not defined"
     ]
    }
   ],
   "source": [
    "# Delete \n",
    "# When using delete to delete a value, we need to specify the index of the list.\n",
    "list3 = [2, 7, 6, 10]\n",
    "del list3[1] #Deleting the index 1\n",
    "print(list3)\n",
    "\n",
    "# If no index is specified, then it will delete the entire list.\n",
    "del list3\n",
    "list3"
   ]
  },
  {
   "cell_type": "code",
   "execution_count": 15,
   "id": "b84064cb",
   "metadata": {},
   "outputs": [
    {
     "data": {
      "text/plain": [
       "['cat', 'dog', 'lion', 'monkey', 'donkey']"
      ]
     },
     "execution_count": 15,
     "metadata": {},
     "output_type": "execute_result"
    }
   ],
   "source": [
    "# Append\n",
    "# Append inserts a value to the end of the list\n",
    "animals\n",
    "animals.append('donkey')\n",
    "print(animals)"
   ]
  },
  {
   "cell_type": "code",
   "execution_count": 18,
   "id": "7dbdb250",
   "metadata": {},
   "outputs": [
    {
     "data": {
      "text/plain": [
       "['donkey', 'monkey', 'lion', 'dog', 'cat']"
      ]
     },
     "execution_count": 18,
     "metadata": {},
     "output_type": "execute_result"
    }
   ],
   "source": [
    "# Reverse\n",
    "# Reverses the order of the list\n",
    "animals.reverse()\n",
    "print(animals)"
   ]
  },
  {
   "cell_type": "code",
   "execution_count": 22,
   "id": "a9218d3b",
   "metadata": {},
   "outputs": [
    {
     "name": "stdout",
     "output_type": "stream",
     "text": [
      "['apple', 'banana']\n",
      "['apple', 'grapes']\n",
      "['apple', 'orange', 'grapes']\n",
      "['apple', 'grapes', 'orange']\n",
      "['grapes', 'orange']\n",
      "['grapes', 'orange', 'papaya']\n",
      "['papaya', 'orange', 'grapes']\n"
     ]
    }
   ],
   "source": [
    "# Consolidation of all the list operations\n",
    "\n",
    "fruits = ['apple', 'banana']\n",
    "print(fruits)\n",
    "\n",
    "fruits[1] = 'grapes'        #replace\n",
    "print(fruits)\n",
    "\n",
    "fruits.insert(1, 'orange')  #insert\n",
    "print(fruits)\n",
    "\n",
    "fruits.sort()               #sort\n",
    "print(fruits)\n",
    "\n",
    "del fruits[0]               #delete\n",
    "print(fruits)\n",
    "\n",
    "fruits.append('papaya')     #append\n",
    "print(fruits)\n",
    "\n",
    "fruits.reverse()            #reverse\n",
    "print(fruits)"
   ]
  },
  {
   "cell_type": "markdown",
   "id": "d4a749e0",
   "metadata": {},
   "source": [
    "# Tuples"
   ]
  },
  {
   "cell_type": "code",
   "execution_count": 34,
   "id": "6426b1d0",
   "metadata": {},
   "outputs": [
    {
     "name": "stdout",
     "output_type": "stream",
     "text": [
      "('dog', 'cat', 'monkey')\n",
      "dog\n",
      "((10, 2.3), (3.5, 4))\n",
      "(10, 2.3)\n",
      "10\n",
      "()\n"
     ]
    }
   ],
   "source": [
    "# Tuple is immutable, meaning you cannot add and remove elements within the tuples.\n",
    "# Since tuple is immutable, we cannot any operations such as replace, insert and etc.\n",
    "animal = ('dog', 'cat', 'monkey')\n",
    "print(animal)\n",
    "print(animal[0])\n",
    "\n",
    "tuple1 = ((10, 2.3), (3.5, 4))\n",
    "print(tuple1)\n",
    "print(tuple1[0])\n",
    "print(tuple1[0][0])\n",
    "\n",
    "num = ()\n",
    "print(num)"
   ]
  },
  {
   "cell_type": "markdown",
   "id": "7a0dd478",
   "metadata": {},
   "source": [
    "# Sequences"
   ]
  },
  {
   "cell_type": "code",
   "execution_count": null,
   "id": "555720d0",
   "metadata": {},
   "outputs": [],
   "source": [
    "# There are 10 types of sequence operations. \n",
    "# Length, select, slice, count, index, membership, concatenation, min value, max value, sum."
   ]
  },
  {
   "cell_type": "code",
   "execution_count": 10,
   "id": "bbaaac9d",
   "metadata": {},
   "outputs": [
    {
     "name": "stdout",
     "output_type": "stream",
     "text": [
      "Length of name is 5\n",
      "Length of list1 is 6\n",
      "Length of tuple1 is 4\n"
     ]
    }
   ],
   "source": [
    "# Length can be used to check the length of a string, list, and tuple.\n",
    "name = 'amuls'\n",
    "list1 = [10, 20, 3.4, 5, 6, 5]\n",
    "tuple1 = (10, 2.3, 4.5, 5)\n",
    "print('Length of name is', len(name))\n",
    "print('Length of list1 is', len(list1))\n",
    "print('Length of tuple1 is', len(tuple1))"
   ]
  },
  {
   "cell_type": "code",
   "execution_count": 11,
   "id": "7a044346",
   "metadata": {},
   "outputs": [
    {
     "name": "stdout",
     "output_type": "stream",
     "text": [
      "a\n",
      "6\n",
      "5\n"
     ]
    }
   ],
   "source": [
    "# Select can be used to select an individual element in a string, list or tuple.\n",
    "print(name[0])\n",
    "print(list1[4])\n",
    "print(tuple1[3])"
   ]
  },
  {
   "cell_type": "code",
   "execution_count": 12,
   "id": "ebbf88dc",
   "metadata": {},
   "outputs": [
    {
     "name": "stdout",
     "output_type": "stream",
     "text": [
      "mul\n",
      "[20, 3.4, 5, 6, 5]\n",
      "(10, 2.3)\n"
     ]
    }
   ],
   "source": [
    "# Slice. If you want part of a string or a list.\n",
    "print(name[1:4])    #2nd to 4th element\n",
    "print(list1[1:])    #2nd to final element \n",
    "print(tuple1[:2])   #1st and 2nd element"
   ]
  },
  {
   "cell_type": "code",
   "execution_count": 13,
   "id": "9bd6a73e",
   "metadata": {},
   "outputs": [
    {
     "name": "stdout",
     "output_type": "stream",
     "text": [
      "1\n",
      "0\n",
      "2\n"
     ]
    }
   ],
   "source": [
    "# Count can be used to count the occurence of an element is present in a string, list or tuple.\n",
    "print(name.count('m'))   # Check how many m in name string\n",
    "print(name.count('M'))   # Check how many M in name string\n",
    "print(list1.count(5))    # Check how many 5 in 'list1' list"
   ]
  },
  {
   "cell_type": "code",
   "execution_count": 14,
   "id": "f3991608",
   "metadata": {},
   "outputs": [
    {
     "name": "stdout",
     "output_type": "stream",
     "text": [
      "3\n",
      "3\n",
      "3\n"
     ]
    }
   ],
   "source": [
    "# Index. To find the index (position) of any character or any element.\n",
    "print(name.index('l'))\n",
    "print(tuple1.index(5))\n",
    "print(list1.index(5))    # This only shows one index eventhough there is two occurence of 5"
   ]
  },
  {
   "cell_type": "code",
   "execution_count": 15,
   "id": "a261f731",
   "metadata": {},
   "outputs": [
    {
     "name": "stdout",
     "output_type": "stream",
     "text": [
      "True\n",
      "False\n"
     ]
    }
   ],
   "source": [
    "# Membership (in) can be used to check if an element is in a string, list or tuple.\n",
    "\n",
    "print('m' in name)\n",
    "print('m' not in name)"
   ]
  },
  {
   "cell_type": "code",
   "execution_count": 18,
   "id": "bb438dd9",
   "metadata": {},
   "outputs": [
    {
     "name": "stdout",
     "output_type": "stream",
     "text": [
      "amuls hai\n",
      "[10, 20, 3, 4, 1.3, 'hello', 2]\n",
      "(2, 3, 4, 5, 8.9, 2, 3)\n"
     ]
    }
   ],
   "source": [
    "# Concatenation (+) to join two or more string, lists or tuple.\n",
    "# We cannot concatenatino between string, list or tuple. It will give an error.\n",
    "\n",
    "# String\n",
    "name = 'amuls'\n",
    "s = ' hai'\n",
    "print(name + s)\n",
    "\n",
    "# List\n",
    "list1 = [10, 20, 3, 4, 1.3]\n",
    "list2 = ['hello', 2]\n",
    "print(list1 + list2)\n",
    "\n",
    "# Tuple\n",
    "tuple1 = (2,3,4,5,8.9)\n",
    "tuple2 = (2,3)\n",
    "print(tuple1 + tuple2)"
   ]
  },
  {
   "cell_type": "code",
   "execution_count": 19,
   "id": "5287635c",
   "metadata": {},
   "outputs": [
    {
     "name": "stdout",
     "output_type": "stream",
     "text": [
      "a\n",
      "1.3\n",
      "2\n",
      "u\n",
      "20\n",
      "8.9\n"
     ]
    }
   ],
   "source": [
    "# Min can be used to check the minimum value of a string, lists or tuple.\n",
    "\n",
    "print(min(name))\n",
    "print(min(list1))\n",
    "print(min(tuple1))\n",
    "\n",
    "# Max can be used to check the maximum value of a string, lists or tuple.\n",
    "\n",
    "print(max(name))\n",
    "print(max(list1))\n",
    "print(max(tuple1))\n"
   ]
  },
  {
   "cell_type": "code",
   "execution_count": 20,
   "id": "7ee3cb74",
   "metadata": {},
   "outputs": [
    {
     "name": "stdout",
     "output_type": "stream",
     "text": [
      "38.3\n",
      "22.9\n"
     ]
    }
   ],
   "source": [
    "# Sum can be used to find the total value of the elements in lists and tuple.\n",
    "\n",
    "list1 = [10, 20, 3, 4, 1.3]\n",
    "print(sum(list1))\n",
    "\n",
    "tuple1 = (2,3,4,5,8.9)\n",
    "print(sum(tuple1))"
   ]
  },
  {
   "cell_type": "markdown",
   "id": "5101b74a",
   "metadata": {},
   "source": [
    "# List Assignment and Copying"
   ]
  },
  {
   "cell_type": "code",
   "execution_count": 31,
   "id": "b50eb9ce",
   "metadata": {},
   "outputs": [
    {
     "name": "stdout",
     "output_type": "stream",
     "text": [
      "List1:  [10, 2, 3.4, 5.1, 45]\n",
      "List2:  [10, 2, 3.4, 5.1, 45]\n",
      "List1:  ['apple', 2, 3.4, 5.1, 45]\n",
      "List2:  ['apple', 2, 3.4, 5.1, 45]\n",
      "List1:  ['apple', 'banana', 3.4, 5.1, 45]\n",
      "List2:  ['apple', 'banana', 3.4, 5.1, 45]\n"
     ]
    }
   ],
   "source": [
    "# Assigning same values of list1 to list2\n",
    "list1 = [10, 2, 3.4, 5.1, 45]\n",
    "list2 = list1\n",
    "print('List1: ', list1)\n",
    "print('List2: ', list2)\n",
    "\n",
    "# Replacing 1st element of list1 will change the 1st element of list 2\n",
    "list1[0] = 'apple'\n",
    "print('List1: ', list1)\n",
    "print('List2: ', list2)\n",
    "\n",
    "# Changes in either list will affect the other list\n",
    "list2[1] = 'banana'\n",
    "print('List1: ', list1)\n",
    "print('List2: ', list2)"
   ]
  },
  {
   "cell_type": "code",
   "execution_count": 32,
   "id": "aa3912de",
   "metadata": {},
   "outputs": [
    {
     "name": "stdout",
     "output_type": "stream",
     "text": [
      "List1:  [0, 'banana', 3.4, 5.1, 45]\n",
      "List3:  ['apple', 'banana', 3.4, 5.1, 45]\n"
     ]
    }
   ],
   "source": [
    "# Copying of list1 to list3\n",
    "list3 = list(list1)\n",
    "list1[0] = 0\n",
    "\n",
    "print('List1: ', list1)\n",
    "print('List3: ', list3)"
   ]
  },
  {
   "cell_type": "code",
   "execution_count": 33,
   "id": "4758cde1",
   "metadata": {},
   "outputs": [
    {
     "name": "stdout",
     "output_type": "stream",
     "text": [
      "[1, 4, 9]\n"
     ]
    }
   ],
   "source": [
    "# Using statements to generate a new list\n",
    "result = [x**2 for x in [1,2,3]]\n",
    "print(result)"
   ]
  },
  {
   "cell_type": "markdown",
   "id": "f81d546b",
   "metadata": {},
   "source": [
    "# Negative Index in List"
   ]
  },
  {
   "cell_type": "code",
   "execution_count": 43,
   "id": "4fc87ef2",
   "metadata": {},
   "outputs": [
    {
     "name": "stdout",
     "output_type": "stream",
     "text": [
      "2\n",
      "4\n",
      "2\n"
     ]
    }
   ],
   "source": [
    "# The first element starts with a 0 index\n",
    "# The final element starts with a -1 index\n",
    "# The second final element is -2 index\n",
    "\n",
    "list1 = [1, 2, 3, 4]\n",
    "print(list1[1])\n",
    "print(list1[-1])\n",
    "print(list1[-3])"
   ]
  },
  {
   "cell_type": "code",
   "execution_count": 44,
   "id": "812f87af",
   "metadata": {},
   "outputs": [
    {
     "name": "stdout",
     "output_type": "stream",
     "text": [
      "[1, 10, 2, 3, 4]\n"
     ]
    }
   ],
   "source": [
    "# Inserting the value 10 in the 3rd position from final position\n",
    "list1.insert(-3, 10)\n",
    "print(list1)"
   ]
  },
  {
   "cell_type": "code",
   "execution_count": 45,
   "id": "7e956dfd",
   "metadata": {},
   "outputs": [
    {
     "data": {
      "text/plain": [
       "[2, 3]"
      ]
     },
     "execution_count": 45,
     "metadata": {},
     "output_type": "execute_result"
    }
   ],
   "source": [
    "# Subsetting the list using negative indexes\n",
    "list1[-3:-1]"
   ]
  },
  {
   "cell_type": "code",
   "execution_count": 46,
   "id": "d8ae66c4",
   "metadata": {},
   "outputs": [
    {
     "name": "stdout",
     "output_type": "stream",
     "text": [
      "[1, 10, 2, 3]\n"
     ]
    }
   ],
   "source": [
    "# Deleting the final element in the list\n",
    "del list1[-1]\n",
    "print(list1)"
   ]
  },
  {
   "cell_type": "markdown",
   "id": "b7ef1af8",
   "metadata": {},
   "source": [
    "# Range Function"
   ]
  },
  {
   "cell_type": "code",
   "execution_count": 52,
   "id": "01f72b45",
   "metadata": {},
   "outputs": [
    {
     "name": "stdout",
     "output_type": "stream",
     "text": [
      "Range from 0 to 10.\n",
      "0\n",
      "1\n",
      "2\n",
      "3\n",
      "4\n",
      "5\n",
      "6\n",
      "7\n",
      "8\n",
      "9\n",
      "10\n",
      "Range from 1 to 10.\n",
      "1\n",
      "2\n",
      "3\n",
      "4\n",
      "5\n",
      "6\n",
      "7\n",
      "8\n",
      "9\n",
      "10\n",
      "Range from 1 to 10 with increment of 2\n",
      "0\n",
      "2\n",
      "4\n",
      "6\n",
      "8\n",
      "10\n"
     ]
    }
   ],
   "source": [
    "# Range function can be used to generate a random number in a range \n",
    "# range(start, stop, step)\n",
    "# Start: Optional. An integer number specifying at which position to start. Default is 0\n",
    "# Stop: Required. An integer number specifying at which position to stop (not included).\n",
    "# Step: Optional. An integer number specifying the incrementation. Default is 1\n",
    "\n",
    "print('Range from 0 to 10.')\n",
    "for x in range(11): # start at 0, end at 10\n",
    "    print (x) \n",
    "\n",
    "print('Range from 1 to 10.')\n",
    "for x in range(1, 11): # 11 will be excluded from the range\n",
    "    print (x) \n",
    "\n",
    "print('Range from 1 to 10 with increment of 2')\n",
    "for x in range(1, 11, 2): # 11 will be excluded from the range\n",
    "    print (x) "
   ]
  },
  {
   "cell_type": "markdown",
   "id": "8dc84d24",
   "metadata": {},
   "source": [
    "# Functions"
   ]
  },
  {
   "cell_type": "code",
   "execution_count": 57,
   "id": "61061dfb",
   "metadata": {},
   "outputs": [
    {
     "name": "stdout",
     "output_type": "stream",
     "text": [
      "Welcome\n",
      "20.0\n",
      "2.0\n",
      "3.1999999999999997\n",
      "Welcome Haarendran\n",
      "Vanakam\n"
     ]
    }
   ],
   "source": [
    "# Functions are statements grouped together to do some particular task.\n",
    "# In function there are two parts, one is function call and another being function definition. \n",
    "\n",
    "# Function Definition\n",
    "def avg(n1,n2,n3):    # n1,n2,n3 is formal parameter\n",
    "    return (n1+n2+n3)/3.0   # this is a value returning function\n",
    "\n",
    "\n",
    "print('Welcome')\n",
    "# Function Call - result1, result2, result3\n",
    "result1 = avg(10,20,30)     # 10,20,30 is actual parameter\n",
    "result2 = avg(1,2,3)\n",
    "result3 = avg(3.1,2,4.5)\n",
    "\n",
    "# Printing results\n",
    "print(result1)\n",
    "print(result2)\n",
    "print(result3)\n",
    "\n",
    "\n",
    "# Non value returning function\n",
    "def display():\n",
    "    print(\"Welcome Haarendran\")\n",
    "    print(\"Vanakam\")\n",
    "    \n",
    "display()"
   ]
  },
  {
   "cell_type": "markdown",
   "id": "9a3d7ba5",
   "metadata": {},
   "source": [
    "# Keyword and Default Arguments"
   ]
  },
  {
   "cell_type": "code",
   "execution_count": 58,
   "id": "3b53893a",
   "metadata": {},
   "outputs": [
    {
     "name": "stdout",
     "output_type": "stream",
     "text": [
      "Welcome\n",
      "Enter number 1: 3\n",
      "Enter number 2: 5\n",
      "Enter number 3: 2\n",
      "3.3333333333333335\n"
     ]
    }
   ],
   "source": [
    "# Keyword using num1, num2, num3\n",
    "def average(n1,n2,n3):\n",
    "    return (n1+n2+n3)/3.0\n",
    "\n",
    "print('Welcome')\n",
    "num1 = int(input('Enter number 1: '))\n",
    "num2 = int(input('Enter number 2: '))\n",
    "num3 = int(input('Enter number 3: '))\n",
    "\n",
    "result = average(num1,num2,num3) #function call\n",
    "print(result)"
   ]
  },
  {
   "cell_type": "code",
   "execution_count": 64,
   "id": "647be6ea",
   "metadata": {},
   "outputs": [
    {
     "name": "stdout",
     "output_type": "stream",
     "text": [
      "Welcome\n",
      "Enter number 1: 3\n",
      "Enter number 2: 3\n",
      "3.6666666666666665\n"
     ]
    }
   ],
   "source": [
    "# Default Arguments where n3 = 5\n",
    "def average(n1,n2,n3 = 5):\n",
    "    return (n1+n2+n3)/3.0\n",
    "\n",
    "print('Welcome')\n",
    "num1 = int(input('Enter number 1: '))\n",
    "num2 = int(input('Enter number 2: '))\n",
    "\n",
    "result = average(num1,num2) # n3=5 still included\n",
    "print(result)"
   ]
  }
 ],
 "metadata": {
  "kernelspec": {
   "display_name": "Python 3",
   "language": "python",
   "name": "python3"
  },
  "language_info": {
   "codemirror_mode": {
    "name": "ipython",
    "version": 3
   },
   "file_extension": ".py",
   "mimetype": "text/x-python",
   "name": "python",
   "nbconvert_exporter": "python",
   "pygments_lexer": "ipython3",
   "version": "3.8.8"
  }
 },
 "nbformat": 4,
 "nbformat_minor": 5
}
